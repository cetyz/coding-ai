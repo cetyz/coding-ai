{
 "cells": [
  {
   "cell_type": "code",
   "execution_count": 1,
   "metadata": {},
   "outputs": [],
   "source": [
    "from dotenv import load_dotenv\n",
    "from openai import OpenAI\n",
    "from tenacity import retry, wait_random_exponential, stop_after_attempt\n",
    "\n",
    "from assistant.tools import fetch_github_repo\n",
    "from assistant.agents import Agent\n",
    "from assistant.prompts import github_cleaner_agent_system_prompt"
   ]
  },
  {
   "cell_type": "code",
   "execution_count": 2,
   "metadata": {},
   "outputs": [
    {
     "data": {
      "text/plain": [
       "{'role': 'system',\n",
       " 'content': 'You are an expert at reading code and also developing programs. You will be given some data from a github repo. \\n    Primary Objectives: \\n    1. Convert any notebook code or other markdown (e.g. .ipynb) into more readable python\\n    For example: ```{\\n   \"cell_type\": \"code\",\\n   \"execution_count\": 10,\\n   \"metadata\": {},\\n   \"outputs\": [],\\n   \"source\": [\\n    \"from dotenv import load_dotenv\\\\n\",\\n    \"from openai import OpenAI\\\\n\",\\n    \"from tenacity import retry, wait_random_exponential, stop_after_attempt\"\\n   ]\\n  }```\\n    Should become: ``` from dotenv import load_dotenv\\nfrom openai import OpenAI\\nfrom tenacity import retry, wait_random_exponential, stop_after_attempt```\\n    3. Then, give me output in the following format:\\n    \\n    \\n     ## Folder Structure\\n     (insert folder structure here)\\n\\n     ## File contents\\n     file1.py\\n     ```file1.py contents```\\n\\n     file2.ipynb\\n     ```file2.ipynb contents```\\n    \\n'}"
      ]
     },
     "execution_count": 2,
     "metadata": {},
     "output_type": "execute_result"
    }
   ],
   "source": [
    "github_cleaner_agent_system_prompt()"
   ]
  },
  {
   "cell_type": "code",
   "execution_count": 3,
   "metadata": {},
   "outputs": [],
   "source": [
    "load_dotenv()\n",
    "\n",
    "GPT_MODEL = 'gpt-3.5-turbo'\n",
    "\n",
    "client = OpenAI()\n",
    "\n"
   ]
  },
  {
   "cell_type": "code",
   "execution_count": 7,
   "metadata": {},
   "outputs": [],
   "source": [
    "messages = [\n",
    "    {'role': 'user', 'content': 'Just saying hello!'}\n",
    "]\n",
    "\n",
    "response = client.chat.completions.create(\n",
    "    model=GPT_MODEL,\n",
    "    messages=messages,\n",
    ")\n"
   ]
  },
  {
   "cell_type": "code",
   "execution_count": 8,
   "metadata": {},
   "outputs": [
    {
     "data": {
      "text/plain": [
       "ChatCompletion(id='chatcmpl-9i4zRu6Btq006QpOCBxSp47HlLFMP', choices=[Choice(finish_reason='stop', index=0, logprobs=None, message=ChatCompletionMessage(content='Hello! How can I assist you today?', role='assistant', function_call=None, tool_calls=None))], created=1720292641, model='gpt-3.5-turbo-0125', object='chat.completion', service_tier=None, system_fingerprint=None, usage=CompletionUsage(completion_tokens=9, prompt_tokens=11, total_tokens=20))"
      ]
     },
     "execution_count": 8,
     "metadata": {},
     "output_type": "execute_result"
    }
   ],
   "source": [
    "response"
   ]
  },
  {
   "cell_type": "code",
   "execution_count": null,
   "metadata": {},
   "outputs": [],
   "source": [
    "github_cleaner_agent = Agent()\n",
    "\n",
    "github_cleaner_agent.memory.append(github_cleaner_agent_system_prompt())\n",
    "\n",
    "github_cleaner_agent.tools.append(\n",
    "    {\n",
    "        'type': 'function',\n",
    "        'function': {\n",
    "            'name': 'placeholder_tool',\n",
    "            'description': 'Placeholder tool not to be used',\n",
    "            'parameters': {\n",
    "                'type': 'object',\n",
    "                'properties': {\n",
    "                    'placeholder_property': {\n",
    "                        'type': 'string',\n",
    "                        'description': 'Placeholder property',\n",
    "                    },\n",
    "                    'placeholder_property_2': {\n",
    "                        'type': 'integer',\n",
    "                        'description': 'Placeholder property 2'\n",
    "                    },\n",
    "                },\n",
    "                'required': ['placeholder_property', 'placeholder_property_2']\n",
    "            }\n",
    "        }\n",
    "    }\n",
    ")\n",
    "\n",
    "\n",
    "repo_data = fetch_github_repo(\"https://github.com/cetyz/coding-ai\")\n",
    "\n",
    "github_response = github_cleaner_agent.invoke(str(repo_data))\n",
    "print(github_response)\n",
    "\n",
    "# while True:\n",
    "#     user_input = input('User Message:')\n",
    "#     if user_input == 'exit':\n",
    "#         break\n",
    "#     response = agent.invoke(user_input)\n",
    "#     print('Assistant:', response)\n",
    "#     print()"
   ]
  },
  {
   "cell_type": "code",
   "execution_count": null,
   "metadata": {},
   "outputs": [],
   "source": [
    "github_analyst_agent = Agent()\n",
    "\n",
    "github_analyst_agent.memory.append({\n",
    "        'role': 'system',\n",
    "        'content': f'''You are an expert at reading code and also developing programs. You will be given some data from a github repo. \n",
    "\n",
    "    Here is the github data: {github_response}\n",
    "\n",
    "    Primary Objectives: \n",
    "    1. Understand the repository and answer any questions the user may have\n",
    "    2. Think step by step how to answer this question\n",
    "    3. Give the final answer\n",
    "\n",
    "    Use the following framework for thinking and answering:\n",
    "    \n",
    "    Summary of user question: [summary]\n",
    "    Possible solutions to question: [possible solutions]\n",
    "    Given the current repo/code, shortlist solutions further: [shortlisted solutions]\n",
    "    Final answer: [choose solution, followed by reasoning]\n",
    "    Implementation of code: [```insert code or changes```]\n",
    "    Explanation of implementation: [explain written/edited code]\n",
    "     \n",
    "'''\n",
    "    })\n",
    "\n",
    "github_analyst_agent.tools.append(\n",
    "    {\n",
    "        'type': 'function',\n",
    "        'function': {\n",
    "            'name': 'placeholder_tool',\n",
    "            'description': 'Placeholder tool not to be used',\n",
    "            'parameters': {\n",
    "                'type': 'object',\n",
    "                'properties': {\n",
    "                    'placeholder_property': {\n",
    "                        'type': 'string',\n",
    "                        'description': 'Placeholder property',\n",
    "                    },\n",
    "                    'placeholder_property_2': {\n",
    "                        'type': 'integer',\n",
    "                        'description': 'Placeholder property 2'\n",
    "                    },\n",
    "                },\n",
    "                'required': ['placeholder_property', 'placeholder_property_2']\n",
    "            }\n",
    "        }\n",
    "    }\n",
    ")\n",
    "\n",
    "\n",
    "\n",
    "\n",
    "analysis_response = github_analyst_agent.invoke('I want to make this into an app using streamlit. How can I do so and what is the recommended folder structure?')\n",
    "print(analysis_response)"
   ]
  },
  {
   "cell_type": "code",
   "execution_count": null,
   "metadata": {},
   "outputs": [],
   "source": [
    "\n",
    "\n",
    "# Example usage:\n",
    "repo_data = str(fetch_github_repo(\"https://github.com/cetyz/coding-ai\"))\n",
    "print(repo_data)"
   ]
  }
 ],
 "metadata": {
  "kernelspec": {
   "display_name": "venv",
   "language": "python",
   "name": "python3"
  },
  "language_info": {
   "codemirror_mode": {
    "name": "ipython",
    "version": 3
   },
   "file_extension": ".py",
   "mimetype": "text/x-python",
   "name": "python",
   "nbconvert_exporter": "python",
   "pygments_lexer": "ipython3",
   "version": "3.10.2"
  }
 },
 "nbformat": 4,
 "nbformat_minor": 2
}
